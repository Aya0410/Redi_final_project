{
  "nbformat": 4,
  "nbformat_minor": 0,
  "metadata": {
    "colab": {
      "provenance": []
    },
    "kernelspec": {
      "name": "python3",
      "display_name": "Python 3"
    },
    "language_info": {
      "name": "python"
    }
  },
  "cells": [
    {
      "cell_type": "code",
      "source": [
        "import pandas as pd\n",
        "from tabulate import tabulate\n",
        "import re\n",
        "\n",
        "# Define the URL and column names\n",
        "upi_url = \"https://storage.googleapis.com/gsearch_share/gsearch_jobs.csv\"\n",
        "columns = ['title', 'company_name', 'location', 'salary_avg','salary_min','salary_max', 'date_time']\n",
        "\n",
        "# Load the CSV data into a dataframe\n",
        "df = pd.read_csv(upi_url, usecols=columns)\n",
        "\n",
        "def clean_title(title):\n",
        "    words = re.findall(r'\\b\\w+\\b', title)[:3]  # Keep only the first three words without weird characters\n",
        "    cleaned_title = ' '.join(words)\n",
        "    return cleaned_title\n",
        "\n",
        "# Apply the clean_title function to the title column\n",
        "df['title'] = df['title'].apply(clean_title)\n",
        "\n",
        "# Define a regular expression pattern to match the desired character\n",
        "pattern = r'^(.*?),'\n",
        "\n",
        "# Apply the regular expression pattern to clean the location column\n",
        "df['location'] = df['location'].apply(lambda x: re.match(pattern, str(x)).group(1) if pd.notnull(x) and isinstance(x, str) and re.match(pattern, str(x)) else x)\n",
        "\n",
        "# Clean the date_time column and extract the year\n",
        "df['date_time'] = pd.to_datetime(df['date_time']).dt.year\n",
        "\n",
        "# Sort the DataFrame by company name and date_time\n",
        "df_sorted = df.sort_values(['company_name', 'date_time'])\n",
        "\n",
        "# Group the DataFrame by company name\n",
        "groups = df_sorted.groupby('company_name')\n",
        "\n",
        "# Fill NaN values in salary_avg column with values from other job listings of the same company\n",
        "df['salary_avg'] = groups['salary_avg'].apply(lambda x: x.ffill().bfill())\n",
        "df['salary_min'] = groups['salary_min'].apply(lambda x: x.ffill().bfill())\n",
        "df['salary_max'] = groups['salary_max'].apply(lambda x: x.ffill().bfill())\n",
        "# Delete rows with salary less than 1000\n",
        "df = df[df['salary_avg'] >= 1000]\n",
        "# Drop rows with salary_avg = 0\n",
        "df = df[df['salary_avg'] != 0]\n",
        "\n",
        "# Delete rows with NaN values in the salary_avg column\n",
        "df = df.dropna(subset=['salary_avg'])\n",
        "df = df.dropna(subset=['salary_min'])\n",
        "df = df.dropna(subset=['salary_max'])\n",
        "# Reset the index after removing rows\n",
        "df = df.reset_index(drop=True)\n",
        "\n",
        "# Define a function to replace job titles\n",
        "def replace_job_titles(title):\n",
        "    if title == \"Sr Data Analyst\" or title == \"Senior Data Analytics\":\n",
        "        return \"Senior Data Analyst\"\n",
        "    elif title == \"Data analyst BI\" or title == \"Business Data Analyst\":\n",
        "        return \"Business Intelligence Analyst\"\n",
        "    elif title == \"Senior Performance Marketing\":\n",
        "        return \"Marketing Data Analyst\"\n",
        "    elif title in [\"Data analyst\", \"Data Analyst II\", \"Data Analyst III\", \"Data Analyst I\",\"Data Analyst for\"]:\n",
        "        return \"Data Analyst\"\n",
        "    else:\n",
        "        return title\n",
        "\n",
        "# Apply the replace_job_titles function to the title column\n",
        "df['title'] = df['title'].apply(replace_job_titles)\n",
        "\n",
        "# Display a limited number of rows using the tabulate library\n",
        "table = tabulate(df.head(10), headers='keys', tablefmt='fancy_grid')\n",
        "print(table)\n"
      ],
      "metadata": {
        "id": "CPMDc79lKBRf",
        "colab": {
          "base_uri": "https://localhost:8080/"
        },
        "outputId": "d620551c-3154-43c9-c102-dc3e7e262a94"
      },
      "execution_count": null,
      "outputs": [
        {
          "output_type": "stream",
          "name": "stderr",
          "text": [
            "<ipython-input-1-29194b7b4250>:36: FutureWarning: Not prepending group keys to the result index of transform-like apply. In the future, the group keys will be included in the index, regardless of whether the applied function returns a like-indexed object.\n",
            "To preserve the previous behavior, use\n",
            "\n",
            "\t>>> .groupby(..., group_keys=False)\n",
            "\n",
            "To adopt the future behavior and silence this warning, use \n",
            "\n",
            "\t>>> .groupby(..., group_keys=True)\n",
            "  df['salary_avg'] = groups['salary_avg'].apply(lambda x: x.ffill().bfill())\n",
            "<ipython-input-1-29194b7b4250>:37: FutureWarning: Not prepending group keys to the result index of transform-like apply. In the future, the group keys will be included in the index, regardless of whether the applied function returns a like-indexed object.\n",
            "To preserve the previous behavior, use\n",
            "\n",
            "\t>>> .groupby(..., group_keys=False)\n",
            "\n",
            "To adopt the future behavior and silence this warning, use \n",
            "\n",
            "\t>>> .groupby(..., group_keys=True)\n",
            "  df['salary_min'] = groups['salary_min'].apply(lambda x: x.ffill().bfill())\n"
          ]
        },
        {
          "output_type": "stream",
          "name": "stdout",
          "text": [
            "╒════╤═════════════════════╤════════════════════════════╤═══════════════╤═════════════╤══════════════╤══════════════╤══════════════╕\n",
            "│    │ title               │ company_name               │ location      │   date_time │   salary_avg │   salary_min │   salary_max │\n",
            "╞════╪═════════════════════╪════════════════════════════╪═══════════════╪═════════════╪══════════════╪══════════════╪══════════════╡\n",
            "│  0 │ Master Data Analyst │ Charles River Laboratories │ United States │        2023 │        70000 │        65000 │        75000 │\n",
            "├────┼─────────────────────┼────────────────────────────┼───────────────┼─────────────┼──────────────┼──────────────┼──────────────┤\n",
            "│  1 │ Master Data Analyst │ Charles River Laboratories │ United States │        2023 │        70000 │        65000 │        75000 │\n",
            "├────┼─────────────────────┼────────────────────────────┼───────────────┼─────────────┼──────────────┼──────────────┼──────────────┤\n",
            "│  2 │ Master Data Analyst │ Charles River Laboratories │ United States │        2023 │        70000 │        65000 │        75000 │\n",
            "├────┼─────────────────────┼────────────────────────────┼───────────────┼─────────────┼──────────────┼──────────────┼──────────────┤\n",
            "│  3 │ Senior Data Analyst │ Walmart                    │ Fayetteville  │        2023 │       125000 │       100000 │       150000 │\n",
            "├────┼─────────────────────┼────────────────────────────┼───────────────┼─────────────┼──────────────┼──────────────┼──────────────┤\n",
            "│  4 │ Staff Data Analyst  │ Walmart                    │ Gravette      │        2023 │       125000 │       100000 │       150000 │\n",
            "├────┼─────────────────────┼────────────────────────────┼───────────────┼─────────────┼──────────────┼──────────────┼──────────────┤\n",
            "│  5 │ Staff Data Analyst  │ Walmart                    │ Tontitown     │        2023 │       125000 │       100000 │       150000 │\n",
            "├────┼─────────────────────┼────────────────────────────┼───────────────┼─────────────┼──────────────┼──────────────┼──────────────┤\n",
            "│  6 │ Data Engineer       │ Insight Global             │ Anywhere      │        2023 │       122500 │       110000 │       135000 │\n",
            "├────┼─────────────────────┼────────────────────────────┼───────────────┼─────────────┼──────────────┼──────────────┼──────────────┤\n",
            "│  7 │ Senior Data Analyst │ Walmart                    │ Noel          │        2023 │       125000 │       100000 │       150000 │\n",
            "├────┼─────────────────────┼────────────────────────────┼───────────────┼─────────────┼──────────────┼──────────────┼──────────────┤\n",
            "│  8 │ Staff Data Analyst  │ Walmart                    │ Centerton     │        2023 │       125000 │       100000 │       150000 │\n",
            "├────┼─────────────────────┼────────────────────────────┼───────────────┼─────────────┼──────────────┼──────────────┼──────────────┤\n",
            "│  9 │ Data Analyst        │ Bayforce                   │ Anywhere      │        2023 │        47500 │        45000 │        50000 │\n",
            "╘════╧═════════════════════╧════════════════════════════╧═══════════════╧═════════════╧══════════════╧══════════════╧══════════════╛\n"
          ]
        },
        {
          "output_type": "stream",
          "name": "stderr",
          "text": [
            "<ipython-input-1-29194b7b4250>:38: FutureWarning: Not prepending group keys to the result index of transform-like apply. In the future, the group keys will be included in the index, regardless of whether the applied function returns a like-indexed object.\n",
            "To preserve the previous behavior, use\n",
            "\n",
            "\t>>> .groupby(..., group_keys=False)\n",
            "\n",
            "To adopt the future behavior and silence this warning, use \n",
            "\n",
            "\t>>> .groupby(..., group_keys=True)\n",
            "  df['salary_max'] = groups['salary_max'].apply(lambda x: x.ffill().bfill())\n"
          ]
        }
      ]
    },
    {
      "cell_type": "code",
      "source": [
        "# Count the occurrences of each title\n",
        "title_counts = df['title'].value_counts()\n",
        "\n",
        "# Print the first 10 titles with their counts\n",
        "print(title_counts.head(10))\n"
      ],
      "metadata": {
        "colab": {
          "base_uri": "https://localhost:8080/"
        },
        "id": "k2LQgnx9DRrQ",
        "outputId": "448d4794-5084-4446-e692-562fb237ce74"
      },
      "execution_count": null,
      "outputs": [
        {
          "output_type": "stream",
          "name": "stdout",
          "text": [
            "Senior Data Analyst              930\n",
            "Data Analyst                     595\n",
            "Lead Data Analyst                296\n",
            "Business Intelligence Analyst     92\n",
            "Marketing Data Analyst            75\n",
            "Principal Data Analyst            45\n",
            "Data Analyst Immigration          38\n",
            "Marketing Data BI                 30\n",
            "Data Scientist                    30\n",
            "Senior Manager II                 29\n",
            "Name: title, dtype: int64\n"
          ]
        }
      ]
    },
    {
      "cell_type": "code",
      "source": [
        "import pandas as pd\n",
        "from sklearn.model_selection import train_test_split\n",
        "from sklearn.ensemble import RandomForestRegressor\n",
        "from sklearn.metrics import mean_absolute_error, mean_squared_error, r2_score\n",
        "\n",
        "\n",
        "# Define the features (X) and the target variable (y)\n",
        "X = df[['title', 'company_name', 'location', 'date_time','salary_min','salary_max']]\n",
        "y = df['salary_avg']\n",
        "\n",
        "# Perform one-hot encoding to convert categorical variables into numerical representation\n",
        "X_encoded = pd.get_dummies(X)\n",
        "\n",
        "# Split the data into training and testing sets\n",
        "X_train, X_test, y_train, y_test = train_test_split(X_encoded, y, test_size=0.2, random_state=42)\n",
        "\n",
        "# Train the Random Forest model\n",
        "model = RandomForestRegressor(n_estimators=150, random_state=42)\n",
        "model.fit(X_train, y_train)\n",
        "\n",
        "# Make predictions on the test set\n",
        "y_pred = model.predict(X_test)\n",
        "\n",
        "# Evaluate the model\n",
        "mae = mean_absolute_error(y_test, y_pred)\n",
        "mse = mean_squared_error(y_test, y_pred)\n",
        "r2 = r2_score(y_test, y_pred)\n",
        "\n",
        "# Print the evaluation metrics\n",
        "print(\"Mean Absolute Error:\", mae)\n",
        "print(\"Mean Squared Error:\", mse)\n",
        "print(\"R-squared:\", r2)\n",
        "\n"
      ],
      "metadata": {
        "colab": {
          "base_uri": "https://localhost:8080/"
        },
        "id": "ZmNMwFOvn3GE",
        "outputId": "da977123-aba9-40dc-d88b-a690400851ad"
      },
      "execution_count": null,
      "outputs": [
        {
          "output_type": "stream",
          "name": "stdout",
          "text": [
            "Mean Absolute Error: 1093.2935080109837\n",
            "Mean Squared Error: 43682058.03978024\n",
            "R-squared: 0.9448389583703425\n"
          ]
        }
      ]
    },
    {
      "cell_type": "markdown",
      "source": [
        "With an MAE of 10,93.29 and an MSE of 43682058.03 it suggests that, on average, the predicted salaries deviate by approximately $10,93.29 from the actual salaries. The R-squared value of 0.944 indicates that the model explains around 94.48% of the variance in the target variable, which is a good fit for the data."
      ],
      "metadata": {
        "id": "zMwffXgKp_Y5"
      }
    },
    {
      "cell_type": "code",
      "source": [
        "import matplotlib.pyplot as plt\n",
        "\n",
        "plt.scatter(y_test, y_pred)\n",
        "plt.xlabel('Actual Salary')\n",
        "plt.ylabel('Predicted Salary')\n",
        "plt.title('Actual vs. Predicted Salary')\n",
        "plt.show()\n",
        "\n",
        "\n"
      ],
      "metadata": {
        "colab": {
          "base_uri": "https://localhost:8080/",
          "height": 472
        },
        "id": "jr-VnzwwOni3",
        "outputId": "f40b6ec0-c5ef-4931-f0ac-7436d6ccb037"
      },
      "execution_count": null,
      "outputs": [
        {
          "output_type": "display_data",
          "data": {
            "text/plain": [
              "<Figure size 640x480 with 1 Axes>"
            ],
            "image/png": "[encoded data removed]"
          },
          "metadata": {}
        }
      ]
    },
    {
      "cell_type": "markdown",
      "source": [
        "compare the predicted salaries with the actual salaries. This will help you visualize how well the model's predictions align with the ground truth values."
      ],
      "metadata": {
        "id": "YXwwZ1jcqaAp"
      }
    },
    {
      "cell_type": "code",
      "source": [],
      "metadata": {
        "id": "MNfdYbWZq4ph"
      },
      "execution_count": null,
      "outputs": []
    }
  ]
}